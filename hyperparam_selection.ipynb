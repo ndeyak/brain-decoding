{
 "cells": [
  {
   "cell_type": "markdown",
   "id": "rocky-motorcycle",
   "metadata": {},
   "source": [
    "# <font>Exploring the data and hyperparameter selection</font>"
   ]
  },
  {
   "cell_type": "markdown",
   "id": "harmful-muslim",
   "metadata": {},
   "source": [
    "Research questions to ask:\n",
    "\n",
    "1. What regions of the brain are associated with playing Rock-Paper-Scissors well?\n",
    "\n",
    "2. Do the voxel coordinates have any effect on performance in the Rock-Paper-Scissors game?\n",
    "\n"
   ]
  },
  {
   "cell_type": "code",
   "execution_count": null,
   "id": "optimum-cocktail",
   "metadata": {},
   "outputs": [],
   "source": []
  },
  {
   "cell_type": "code",
   "execution_count": 154,
   "id": "directed-feature",
   "metadata": {},
   "outputs": [],
   "source": [
    "import bdpy\n",
    "import torch\n",
    "import urllib\n",
    "import numpy as np\n",
    "import pandas as pd\n",
    "import seaborn as sns\n",
    "import ipywidgets as widgets  # interactive display\n",
    "import matplotlib.pyplot as plt\n",
    "\n",
    "from PIL import Image\n",
    "from random import seed\n",
    "from bdpy.util import get_refdata\n",
    "\n",
    "from sklearn.svm import SVC\n",
    "from sklearn.pipeline import Pipeline\n",
    "from sklearn.neighbors import KNeighborsClassifier\n",
    "from sklearn.ensemble import RandomForestClassifier\n",
    "from sklearn.tree import DecisionTreeClassifier\n",
    "from sklearn.linear_model import LogisticRegression, Lasso, Ridge\n",
    "from sklearn.model_selection import train_test_split, cross_val_score, cross_validate, GridSearchCV\n",
    "from sklearn.metrics import accuracy_score\n",
    "from sklearn.naive_bayes import GaussianNB, MultinomialNB\n",
    "from xgboost import XGBClassifier\n",
    "\n",
    "import visbrain \n",
    "\n",
    "import warnings\n",
    "warnings.filterwarnings(\"ignore\", category=DeprecationWarning)"
   ]
  },
  {
   "cell_type": "code",
   "execution_count": 155,
   "id": "meaningful-crossing",
   "metadata": {},
   "outputs": [],
   "source": [
    "%matplotlib inline"
   ]
  },
  {
   "cell_type": "code",
   "execution_count": 156,
   "id": "sonic-aaron",
   "metadata": {},
   "outputs": [],
   "source": [
    "sns.set_theme(style=\"whitegrid\")"
   ]
  },
  {
   "cell_type": "markdown",
   "id": "offshore-peninsula",
   "metadata": {},
   "source": [
    "### I. Explore the data"
   ]
  },
  {
   "cell_type": "code",
   "execution_count": 157,
   "id": "artistic-element",
   "metadata": {},
   "outputs": [],
   "source": [
    "def show_metadata(the_filename):\n",
    "    voxel_data = bdpy.BData(the_filename)\n",
    "    print(voxel_data.show_metadata())"
   ]
  },
  {
   "cell_type": "code",
   "execution_count": 168,
   "id": "smooth-shock",
   "metadata": {},
   "outputs": [],
   "source": [
    "regions_of_interest = {\n",
    "        'CB_LHand' : 'VOX_CB_LHand = 1',\n",
    "        'CB_RHand' : 'VOX_CB_RHand = 1',\n",
    "        'M1_LHand' : 'VOX_M1_LHand = 1',\n",
    "        'M1_RHand' : 'VOX_M1_RHand = 1',\n",
    "        'SMA_LHand': 'VOX_SMA_LHand = 1',\n",
    "        'SMA_RHand': 'VOX_SMA_RHand = 1',\n",
    "    }\n",
    "\n",
    "def extract_data(roi):\n",
    "    data = bdpy.BData('data/S1.h5')\n",
    "    \n",
    "    voxel_data = data.select(regions_of_interest[roi])\n",
    "    data_type = data.select('VoxelData')\n",
    "    data_labels = data.select('Label')\n",
    "    \n",
    "    # convert labels from floats to ints\n",
    "    data_labels = np.floor(data_labels).astype(int)\n",
    "    \n",
    "    return voxel_data, data_labels"
   ]
  },
  {
   "cell_type": "code",
   "execution_count": null,
   "id": "consecutive-maria",
   "metadata": {},
   "outputs": [],
   "source": []
  },
  {
   "cell_type": "code",
   "execution_count": 159,
   "id": "charitable-lloyd",
   "metadata": {
    "scrolled": true
   },
   "outputs": [
    {
     "name": "stdout",
     "output_type": "stream",
     "text": [
      "| Key           | Description           |\n",
      "|---------------|-----------------------|\n",
      "| VoxelData     | 1 = voxel data        |\n",
      "| Run           | 1 = run number        |\n",
      "| Block         | 1 = block number      |\n",
      "| Label         | 1 = labels            |\n",
      "| voxel_x       | Voxel x coordinate    |\n",
      "| voxel_y       | Voxel y coordinate    |\n",
      "| voxel_z       | Voxel z coordinate    |\n",
      "| VOX_CB_LHand  | 1 = ROI VOX_CB_LHand  |\n",
      "| VOX_CB_RHand  | 1 = ROI VOX_CB_RHand  |\n",
      "| VOX_M1_LHand  | 1 = ROI VOX_M1_LHand  |\n",
      "| VOX_M1_RHand  | 1 = ROI VOX_M1_RHand  |\n",
      "| VOX_SMA_LHand | 1 = ROI VOX_SMA_LHand |\n",
      "| VOX_SMA_RHand | 1 = ROI VOX_SMA_RHand |\n",
      "| CB            | ROI flag for CB       |\n",
      "| M1            | ROI flag for M1       |\n",
      "| SMA           | ROI flag for SMA      |\n",
      "None\n"
     ]
    }
   ],
   "source": [
    "show_metadata('data/S1.h5')\n",
    "#show_metadata('data/data.h5')"
   ]
  },
  {
   "cell_type": "code",
   "execution_count": null,
   "id": "detailed-generator",
   "metadata": {},
   "outputs": [],
   "source": []
  },
  {
   "cell_type": "markdown",
   "id": "attempted-bulgarian",
   "metadata": {},
   "source": [
    "### 2. Choose the best model\n",
    "\n",
    "We'll do cross validation while training the model.\n",
    "\n",
    "Create the pipelines for various models (at the same time, also creating the models)."
   ]
  },
  {
   "cell_type": "code",
   "execution_count": 160,
   "id": "chinese-times",
   "metadata": {},
   "outputs": [],
   "source": [
    "pipeline_lr = Pipeline([('LR', LogisticRegression(multi_class='multinomial', random_state=42))])\n",
    "pipeline_svc = Pipeline([('SVC', SVC(random_state=42))])\n",
    "pipeline_knn = Pipeline([('KNN', KNeighborsClassifier())])\n",
    "pipeline_dt = Pipeline([('DT',DecisionTreeClassifier(random_state=42))])\n",
    "pipeline_rf = Pipeline([('RF',RandomForestClassifier(random_state=42))])\n",
    "#pipeline_xgb = Pipeline([('XGB', XGBClassifier(random_state=42))])"
   ]
  },
  {
   "cell_type": "markdown",
   "id": "effective-variance",
   "metadata": {},
   "source": [
    "Initialize hyperparameters or certain weights for each estimator. Put the parameters in grids for model."
   ]
  },
  {
   "cell_type": "code",
   "execution_count": 173,
   "id": "incorporated-fisher",
   "metadata": {},
   "outputs": [],
   "source": [
    "# inverse of regularization; smaller values specify stronger regularization\n",
    "param_range = [1, 2, 3, 4, 5, 6]\n",
    "param_range_fl = [1.0, 0.5, 0.1]\n",
    "n_estimators = [50,100,150]\n",
    "learning_rates = [.1,.2,.3]\n",
    "\n",
    "lr_param_grid = [{'LR__penalty': ['l2'],\n",
    "                   'LR__C': param_range_fl,\n",
    "                   'LR__solver': ['lbfgs']}]\n",
    "\n",
    "\n",
    "svc_param_grid = [{'SVC__kernel': ['linear', 'rbf'], \n",
    "                    'SVC__C': param_range}]\n",
    "\n",
    "knn_param_grid = [{'KNN__n_neighbors': param_range,\n",
    "                   'KNN__weights': ['uniform', 'distance'],\n",
    "                   'KNN__metric': ['euclidean', 'manhattan']}]\n",
    "\n",
    "dt_param_grid = [{'DT__criterion': ['gini', 'entropy'],\n",
    "                   'DT__min_samples_leaf': param_range,\n",
    "                   'DT__max_depth': param_range,\n",
    "                   'DT__min_samples_split': param_range[1:]}]\n",
    "\n",
    "rf_param_grid = [{'RF__min_samples_leaf': param_range,\n",
    "                   'RF__max_depth': param_range,\n",
    "                   'RF__min_samples_split': param_range[1:]}]\n",
    "\n",
    "#xgb_param_grid = [{'XGB__learning_rate': learning_rates,\n",
    "#                    'XGB__max_depth': param_range,\n",
    "#                    'XGB__min_child_weight': param_range[:2],\n",
    "#                    'XGB__subsample': param_range_fl,\n",
    "#                    'XGB__n_estimators': n_estimators}]"
   ]
  },
  {
   "cell_type": "code",
   "execution_count": null,
   "id": "assisted-pitch",
   "metadata": {},
   "outputs": [],
   "source": []
  },
  {
   "cell_type": "code",
   "execution_count": 174,
   "id": "adjacent-provincial",
   "metadata": {},
   "outputs": [],
   "source": [
    "nfolds = 5\n",
    "lr_grid_search = GridSearchCV(estimator=pipeline_lr,\n",
    "                              param_grid=lr_param_grid,\n",
    "                              scoring='accuracy',\n",
    "                              cv=nfolds)\n",
    "\n",
    "svc_grid_search = GridSearchCV(estimator=pipeline_svc,\n",
    "                               param_grid=svc_param_grid,\n",
    "                               scoring='accuracy',\n",
    "                               cv=nfolds)\n",
    "\n",
    "knn_grid_search = GridSearchCV(estimator=pipeline_knn,\n",
    "                               param_grid=knn_param_grid,\n",
    "                               scoring='accuracy',\n",
    "                               cv=nfolds)\n",
    "\n",
    "\n",
    "dt_grid_search = GridSearchCV(estimator=pipeline_dt,\n",
    "                              param_grid=dt_param_grid,\n",
    "                              scoring='accuracy',\n",
    "                              cv=nfolds)\n",
    "\n",
    "rf_grid_search = GridSearchCV(estimator=pipeline_rf,\n",
    "                              param_grid=rf_param_grid,\n",
    "                              scoring='accuracy',\n",
    "                              cv=nfolds)\n",
    "\n",
    "#xgb_grid_search = GridSearchCV(estimator=pipeline_xgb,\n",
    "#                               param_grid=xgb_param_grid,\n",
    "#                               scoring='accuracy',\n",
    "#                               cv=nfolds)"
   ]
  },
  {
   "cell_type": "markdown",
   "id": "moral-boutique",
   "metadata": {},
   "source": [
    "Create a list of the grids. And run the pipeline."
   ]
  },
  {
   "cell_type": "code",
   "execution_count": 175,
   "id": "streaming-channels",
   "metadata": {},
   "outputs": [],
   "source": [
    "grids = [lr_grid_search, svc_grid_search, knn_grid_search, dt_grid_search]\n",
    "#, rf_grid_search]\n",
    "#, xgb_grid_search]"
   ]
  },
  {
   "cell_type": "code",
   "execution_count": 176,
   "id": "environmental-pierce",
   "metadata": {},
   "outputs": [
    {
     "name": "stdout",
     "output_type": "stream",
     "text": [
      "[GridSearchCV(cv=5,\n",
      "             estimator=Pipeline(steps=[('LR',\n",
      "                                        LogisticRegression(multi_class='multinomial',\n",
      "                                                           random_state=42))]),\n",
      "             param_grid=[{'LR__C': [1.0, 0.5, 0.1], 'LR__penalty': ['l2'],\n",
      "                          'LR__solver': ['lbfgs']}],\n",
      "             scoring='accuracy'), GridSearchCV(cv=5, estimator=Pipeline(steps=[('SVC', SVC(random_state=42))]),\n",
      "             param_grid=[{'SVC__C': [1, 2, 3, 4, 5, 6],\n",
      "                          'SVC__kernel': ['linear', 'rbf']}],\n",
      "             scoring='accuracy'), GridSearchCV(cv=5, estimator=Pipeline(steps=[('KNN', KNeighborsClassifier())]),\n",
      "             param_grid=[{'KNN__metric': ['euclidean', 'manhattan'],\n",
      "                          'KNN__n_neighbors': [1, 2, 3, 4, 5, 6],\n",
      "                          'KNN__weights': ['uniform', 'distance']}],\n",
      "             scoring='accuracy'), GridSearchCV(cv=5,\n",
      "             estimator=Pipeline(steps=[('DT',\n",
      "                                        DecisionTreeClassifier(random_state=42))]),\n",
      "             param_grid=[{'DT__criterion': ['gini', 'entropy'],\n",
      "                          'DT__max_depth': [1, 2, 3, 4, 5, 6],\n",
      "                          'DT__min_samples_leaf': [1, 2, 3, 4, 5, 6],\n",
      "                          'DT__min_samples_split': [2, 3, 4, 5, 6]}],\n",
      "             scoring='accuracy')]\n"
     ]
    }
   ],
   "source": [
    "print(grids)"
   ]
  },
  {
   "cell_type": "markdown",
   "id": "placed-craps",
   "metadata": {},
   "source": [
    "Now find the best estimator with the best parameters."
   ]
  },
  {
   "cell_type": "code",
   "execution_count": 165,
   "id": "traditional-protein",
   "metadata": {},
   "outputs": [],
   "source": [
    "regions_of_interest = ['CB_LHand', 'CB_RHand', 'M1_LHand', 'M1_RHand', 'SMA_LHand', 'SMA_RHand']"
   ]
  },
  {
   "cell_type": "code",
   "execution_count": 166,
   "id": "operational-address",
   "metadata": {},
   "outputs": [],
   "source": [
    "def determine_scores():\n",
    "    return scores"
   ]
  },
  {
   "cell_type": "code",
   "execution_count": 177,
   "id": "complimentary-dakota",
   "metadata": {},
   "outputs": [
    {
     "name": "stdout",
     "output_type": "stream",
     "text": [
      "Logistic Regression Best Params: {'LR__C': 1.0, 'LR__penalty': 'l2', 'LR__solver': 'lbfgs'}\n",
      "Support Vector Machines Best Params: {'SVC__C': 1, 'SVC__kernel': 'linear'}\n",
      "K-Nearest Neighors Best Params: {'KNN__metric': 'manhattan', 'KNN__n_neighbors': 6, 'KNN__weights': 'uniform'}\n",
      "Decision Tree Best Params: {'DT__criterion': 'gini', 'DT__max_depth': 2, 'DT__min_samples_leaf': 5, 'DT__min_samples_split': 2}\n",
      "Logistic Regression Best Params: {'LR__C': 1.0, 'LR__penalty': 'l2', 'LR__solver': 'lbfgs'}\n",
      "Support Vector Machines Best Params: {'SVC__C': 1, 'SVC__kernel': 'linear'}\n",
      "K-Nearest Neighors Best Params: {'KNN__metric': 'manhattan', 'KNN__n_neighbors': 2, 'KNN__weights': 'uniform'}\n",
      "Decision Tree Best Params: {'DT__criterion': 'gini', 'DT__max_depth': 3, 'DT__min_samples_leaf': 6, 'DT__min_samples_split': 2}\n",
      "Logistic Regression Best Params: {'LR__C': 1.0, 'LR__penalty': 'l2', 'LR__solver': 'lbfgs'}\n",
      "Support Vector Machines Best Params: {'SVC__C': 1, 'SVC__kernel': 'linear'}\n",
      "K-Nearest Neighors Best Params: {'KNN__metric': 'euclidean', 'KNN__n_neighbors': 4, 'KNN__weights': 'uniform'}\n",
      "Decision Tree Best Params: {'DT__criterion': 'gini', 'DT__max_depth': 3, 'DT__min_samples_leaf': 2, 'DT__min_samples_split': 2}\n",
      "Logistic Regression Best Params: {'LR__C': 1.0, 'LR__penalty': 'l2', 'LR__solver': 'lbfgs'}\n",
      "Support Vector Machines Best Params: {'SVC__C': 1, 'SVC__kernel': 'linear'}\n",
      "K-Nearest Neighors Best Params: {'KNN__metric': 'manhattan', 'KNN__n_neighbors': 1, 'KNN__weights': 'uniform'}\n",
      "Decision Tree Best Params: {'DT__criterion': 'entropy', 'DT__max_depth': 1, 'DT__min_samples_leaf': 1, 'DT__min_samples_split': 2}\n",
      "Logistic Regression Best Params: {'LR__C': 1.0, 'LR__penalty': 'l2', 'LR__solver': 'lbfgs'}\n",
      "Support Vector Machines Best Params: {'SVC__C': 1, 'SVC__kernel': 'rbf'}\n",
      "K-Nearest Neighors Best Params: {'KNN__metric': 'manhattan', 'KNN__n_neighbors': 4, 'KNN__weights': 'uniform'}\n",
      "Decision Tree Best Params: {'DT__criterion': 'gini', 'DT__max_depth': 3, 'DT__min_samples_leaf': 6, 'DT__min_samples_split': 2}\n",
      "Logistic Regression Best Params: {'LR__C': 1.0, 'LR__penalty': 'l2', 'LR__solver': 'lbfgs'}\n",
      "Support Vector Machines Best Params: {'SVC__C': 1, 'SVC__kernel': 'rbf'}\n",
      "K-Nearest Neighors Best Params: {'KNN__metric': 'manhattan', 'KNN__n_neighbors': 4, 'KNN__weights': 'uniform'}\n",
      "Decision Tree Best Params: {'DT__criterion': 'gini', 'DT__max_depth': 3, 'DT__min_samples_leaf': 6, 'DT__min_samples_split': 2}\n"
     ]
    }
   ],
   "source": [
    "#accuracies = pd.DataFrame(index=regions_of_interest, columns=['Logistic Regression', 'Support Vector Machines', 'K-Nearest Neighors'])\n",
    "#accuracy = pd.DataFrame(index=regions_of_interest, columns=['accuracy'])\n",
    "all_the_scores = []\n",
    "\n",
    "for roi in regions_of_interest:\n",
    "    X,y = extract_data(roi)\n",
    "    X_train, X_test, y_train, y_test = train_test_split(X,y, test_size=.33, random_state=42)\n",
    "    for pipeline in grids:\n",
    "        pipeline.fit(X_train, y_train.squeeze())\n",
    "        \n",
    "    grid_dict = {0: 'Logistic Regression', \n",
    "                 1: 'Support Vector Machines',\n",
    "                 2: 'K-Nearest Neighors',\n",
    "                 3: 'Decision Tree'}\n",
    "    scores = []\n",
    "    \n",
    "    for i, model in enumerate(grids):\n",
    "        scores.append(model.score(X_test, y_test))\n",
    "        \n",
    "        #print('{} Test Accuracy: {}'.format(grid_dict[i],model.score(X_test,y_test)))\n",
    "        print('{} Best Params: {}'.format(grid_dict[i], model.best_params_))\n",
    "        #print(grid_dict[i])\n",
    "        #accuracies[grid_dict[i]] = model.score(X_test, y_test)\n",
    "        \n",
    "        #a_series = pd.Series(scores,index=None)\n",
    "        #print(a_series)\n",
    "    all_the_scores.append(scores)\n",
    "        #accuracies.append(a_series, ignore_index=True)\n",
    "\n",
    "all_the_scores = np.array(all_the_scores)\n",
    "accuracies = pd.DataFrame(all_the_scores, \n",
    "                          index=regions_of_interest,\n",
    "                          columns=['Logistic Regression', 'Support Vector Machines', 'K-Nearest Neighors', 'Decision Tree'])"
   ]
  },
  {
   "cell_type": "code",
   "execution_count": 178,
   "id": "potential-ministry",
   "metadata": {},
   "outputs": [
    {
     "data": {
      "text/html": [
       "<div>\n",
       "<style scoped>\n",
       "    .dataframe tbody tr th:only-of-type {\n",
       "        vertical-align: middle;\n",
       "    }\n",
       "\n",
       "    .dataframe tbody tr th {\n",
       "        vertical-align: top;\n",
       "    }\n",
       "\n",
       "    .dataframe thead th {\n",
       "        text-align: right;\n",
       "    }\n",
       "</style>\n",
       "<table border=\"1\" class=\"dataframe\">\n",
       "  <thead>\n",
       "    <tr style=\"text-align: right;\">\n",
       "      <th></th>\n",
       "      <th>Logistic Regression</th>\n",
       "      <th>Support Vector Machines</th>\n",
       "      <th>K-Nearest Neighors</th>\n",
       "      <th>Decision Tree</th>\n",
       "    </tr>\n",
       "  </thead>\n",
       "  <tbody>\n",
       "    <tr>\n",
       "      <th>CB_LHand</th>\n",
       "      <td>0.65</td>\n",
       "      <td>0.65</td>\n",
       "      <td>0.50</td>\n",
       "      <td>0.40</td>\n",
       "    </tr>\n",
       "    <tr>\n",
       "      <th>CB_RHand</th>\n",
       "      <td>0.60</td>\n",
       "      <td>0.55</td>\n",
       "      <td>0.45</td>\n",
       "      <td>0.35</td>\n",
       "    </tr>\n",
       "    <tr>\n",
       "      <th>M1_LHand</th>\n",
       "      <td>0.70</td>\n",
       "      <td>0.65</td>\n",
       "      <td>0.40</td>\n",
       "      <td>0.35</td>\n",
       "    </tr>\n",
       "    <tr>\n",
       "      <th>M1_RHand</th>\n",
       "      <td>0.95</td>\n",
       "      <td>0.95</td>\n",
       "      <td>0.70</td>\n",
       "      <td>0.50</td>\n",
       "    </tr>\n",
       "    <tr>\n",
       "      <th>SMA_LHand</th>\n",
       "      <td>0.60</td>\n",
       "      <td>0.30</td>\n",
       "      <td>0.40</td>\n",
       "      <td>0.60</td>\n",
       "    </tr>\n",
       "    <tr>\n",
       "      <th>SMA_RHand</th>\n",
       "      <td>0.60</td>\n",
       "      <td>0.30</td>\n",
       "      <td>0.40</td>\n",
       "      <td>0.60</td>\n",
       "    </tr>\n",
       "  </tbody>\n",
       "</table>\n",
       "</div>"
      ],
      "text/plain": [
       "           Logistic Regression  Support Vector Machines  K-Nearest Neighors  \\\n",
       "CB_LHand                  0.65                     0.65                0.50   \n",
       "CB_RHand                  0.60                     0.55                0.45   \n",
       "M1_LHand                  0.70                     0.65                0.40   \n",
       "M1_RHand                  0.95                     0.95                0.70   \n",
       "SMA_LHand                 0.60                     0.30                0.40   \n",
       "SMA_RHand                 0.60                     0.30                0.40   \n",
       "\n",
       "           Decision Tree  \n",
       "CB_LHand            0.40  \n",
       "CB_RHand            0.35  \n",
       "M1_LHand            0.35  \n",
       "M1_RHand            0.50  \n",
       "SMA_LHand           0.60  \n",
       "SMA_RHand           0.60  "
      ]
     },
     "execution_count": 178,
     "metadata": {},
     "output_type": "execute_result"
    }
   ],
   "source": [
    "accuracies"
   ]
  },
  {
   "cell_type": "code",
   "execution_count": 179,
   "id": "accessory-swaziland",
   "metadata": {},
   "outputs": [
    {
     "data": {
      "image/png": "[encoded data removed]",
      "text/plain": [
       "<Figure size 864x432 with 1 Axes>"
      ]
     },
     "metadata": {},
     "output_type": "display_data"
    }
   ],
   "source": [
    "ax = accuracies.plot(kind=\"bar\", figsize=(12,6), rot=0)"
   ]
  },
  {
   "cell_type": "markdown",
   "id": "revolutionary-width",
   "metadata": {},
   "source": [
    "Linear and nonlinear methods were applied to fMRI data of one subject. \n",
    "We explored 3 regions: CB, M1 and SMA. \n",
    "We compared $4$ methods on task-based (Rock-Paper-Scissors) fMRI data:\n",
    "\n",
    "1. logistic regression, multinomial classification with l2 penalty, risk of overfitting is high with logistic regression so we use SVM to check out whether the model is good or bad.\n",
    "\n",
    "2. support vector (machine) classifier, overfitting is less in SVM\n",
    "\n",
    "3. k-nearest neighbours. Linear models cannot fully describe the brain. As we learned in the past few days the brain is a complex, nonlinear system. Add to functional understanding of the brain.\n",
    "\n",
    "4. decision tree.\n",
    "\n",
    "What is the problem we want to solve?\n",
    "\n",
    "Which regions of the brain react or stay silent doing some hand movements?\n",
    "\n",
    "How do we solve the problem?\n",
    "We study fMRI, functional magnetic resonance images, which are high dimension volumetric imaging scans. \n",
    "\n",
    "Prevent overfitting by doing cross validation. We use GridSearchCV to fine tune the hyperparameters of our models. For example in logistic regression we use l2 regularization with an lbgs solver that is good for multinomial classification. So with GridSearchCV we specify a grid of possible parameters and search for the best combination of these.\n",
    "Decoding accuracy was computed separately for different motor areas of the brain.\n",
    "\n",
    "What is the outcome?\n",
    "\n",
    "Data were collected from regions of the brain that were activated during the RPS task. Our analysis showed that the M1_RHand is triggered, which is the region of the brain associated with hand motor . \n",
    "\n",
    "Technical interpretation: the linear models perform much better than the nonlinear one because we're dealing linear data, i.e., voxel data.\n",
    "\n",
    "Biological interpretation: For complex movement (rock???) when the right hand is involved, M1 is active. The \n",
    "different hand movements were correctly classified from fMRI in the M1 using the right hand with linear methods. Predicted classes were classified from either the left or right hemisphere of the three regions.\n",
    "\n",
    "Conclusion:\n",
    "\n",
    "What we were hoping to learn? Biological interpretation of ML methods.\n",
    "\n",
    "What we learned? Learned about the functions of different parts of the brain.\n",
    "\n",
    "\n"
   ]
  },
  {
   "cell_type": "code",
   "execution_count": null,
   "id": "corrected-discrimination",
   "metadata": {},
   "outputs": [],
   "source": []
  },
  {
   "cell_type": "code",
   "execution_count": null,
   "id": "foreign-letter",
   "metadata": {},
   "outputs": [],
   "source": []
  },
  {
   "cell_type": "code",
   "execution_count": null,
   "id": "annual-presentation",
   "metadata": {},
   "outputs": [],
   "source": []
  },
  {
   "cell_type": "code",
   "execution_count": null,
   "id": "quality-casting",
   "metadata": {},
   "outputs": [],
   "source": []
  },
  {
   "cell_type": "code",
   "execution_count": null,
   "id": "adapted-skating",
   "metadata": {},
   "outputs": [],
   "source": []
  },
  {
   "cell_type": "markdown",
   "id": "equal-testimony",
   "metadata": {},
   "source": [
    "### References\n",
    "[GridSearch + Pipelines of Multiple models on Multiclass Classification\n",
    "](https://ryan-reilly.medium.com/gridsearch-pipelines-of-multiple-models-on-multiclass-classification-e9124b6ea2e3)"
   ]
  },
  {
   "cell_type": "code",
   "execution_count": null,
   "id": "funny-opera",
   "metadata": {},
   "outputs": [],
   "source": []
  }
 ],
 "metadata": {
  "kernelspec": {
   "display_name": "Python 3",
   "language": "python",
   "name": "python3"
  },
  "language_info": {
   "codemirror_mode": {
    "name": "ipython",
    "version": 3
   },
   "file_extension": ".py",
   "mimetype": "text/x-python",
   "name": "python",
   "nbconvert_exporter": "python",
   "pygments_lexer": "ipython3",
   "version": "3.8.10"
  }
 },
 "nbformat": 4,
 "nbformat_minor": 5
}
